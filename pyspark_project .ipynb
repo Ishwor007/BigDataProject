{
 "cells": [
  {
   "cell_type": "code",
   "execution_count": 8,
   "id": "10d03521-509c-4d7e-bf56-a003e705870a",
   "metadata": {},
   "outputs": [
    {
     "name": "stdout",
     "output_type": "stream",
     "text": [
      "<pyspark.sql.session.SparkSession object at 0x000002593365B4D0>\n",
      "+-------+-----------+---------+--------------------+\n",
      "|tweetID|     entity|sentiment|       tweet_content|\n",
      "+-------+-----------+---------+--------------------+\n",
      "|   2401|Borderlands| Positive|im getting on bor...|\n",
      "|   2401|Borderlands| Positive|I am coming to th...|\n",
      "|   2401|Borderlands| Positive|im getting on bor...|\n",
      "|   2401|Borderlands| Positive|im coming on bord...|\n",
      "|   2401|Borderlands| Positive|im getting on bor...|\n",
      "+-------+-----------+---------+--------------------+\n",
      "only showing top 5 rows\n",
      "\n",
      "+-------+---------+----------+--------------------+\n",
      "|tweetID|   entity| sentiment|       tweet_content|\n",
      "+-------+---------+----------+--------------------+\n",
      "|   3364| Facebook|Irrelevant|I mentioned on Fa...|\n",
      "|    352|   Amazon|   Neutral|BBC News - Amazon...|\n",
      "|   8312|Microsoft|  Negative|@Microsoft Why do...|\n",
      "|   4371|    CS-GO|  Negative|CSGO matchmaking ...|\n",
      "|   4433|   Google|   Neutral|Now the President...|\n",
      "+-------+---------+----------+--------------------+\n",
      "only showing top 5 rows\n",
      "\n"
     ]
    }
   ],
   "source": [
    "\n",
    "from pyspark.sql import SparkSession\n",
    "spark = SparkSession.builder.appName(\"SentimentAnalysis\").getOrCreate()\n",
    "print(spark)\n",
    "column_names = ['tweetID', 'entity', 'sentiment', 'tweet_content']\n",
    "training_data = spark.read.csv('hdfs://10.0.0.45:9000/data/twitter_training.csv', header=False, inferSchema=True).toDF(*column_names)\n",
    "validation_data = spark.read.csv('hdfs://10.0.0.45:9000/data/twitter_validation.csv', header=False, inferSchema=True).toDF(*column_names)\n",
    "training_data.show(5)\n",
    "validation_data.show(5)\n",
    "\n"
   ]
  },
  {
   "cell_type": "code",
   "execution_count": 9,
   "id": "d5b92211-ec86-45be-99cc-2f02a0459ebb",
   "metadata": {},
   "outputs": [],
   "source": [
    "training_data = training_data.fillna({\"tweet_content\": \"\"})\n",
    "validation_data = validation_data.fillna({\"tweet_content\": \"\"})"
   ]
  },
  {
   "cell_type": "code",
   "execution_count": 10,
   "id": "b5712de4-2860-427f-9f21-7a8f63aeb17f",
   "metadata": {},
   "outputs": [
    {
     "name": "stdout",
     "output_type": "stream",
     "text": [
      "+--------------------+\n",
      "|       tweet_content|\n",
      "+--------------------+\n",
      "|im getting on bor...|\n",
      "|I am coming to th...|\n",
      "|im getting on bor...|\n",
      "|im coming on bord...|\n",
      "|im getting on bor...|\n",
      "+--------------------+\n",
      "only showing top 5 rows\n",
      "\n"
     ]
    }
   ],
   "source": [
    "training_data.select(\"tweet_content\").show(5)\n"
   ]
  },
  {
   "cell_type": "code",
   "execution_count": 11,
   "id": "0a550c9e-ae57-40dc-abfb-eb6fa4725a1b",
   "metadata": {},
   "outputs": [
    {
     "name": "stdout",
     "output_type": "stream",
     "text": [
      "['tweetID', 'entity', 'sentiment', 'tweet_content']\n"
     ]
    }
   ],
   "source": [
    "print(training_data.columns)\n"
   ]
  },
  {
   "cell_type": "code",
   "execution_count": 12,
   "id": "f84ebf83-a535-4d97-9b44-b19d063ecd16",
   "metadata": {},
   "outputs": [
    {
     "name": "stdout",
     "output_type": "stream",
     "text": [
      "+-------+-----------+---------+--------------------+\n",
      "|tweetID|     entity|sentiment|       tweet_content|\n",
      "+-------+-----------+---------+--------------------+\n",
      "|   2401|Borderlands| Positive|im getting on bor...|\n",
      "|   2401|Borderlands| Positive|I am coming to th...|\n",
      "|   2401|Borderlands| Positive|im getting on bor...|\n",
      "|   2401|Borderlands| Positive|im coming on bord...|\n",
      "|   2401|Borderlands| Positive|im getting on bor...|\n",
      "+-------+-----------+---------+--------------------+\n",
      "only showing top 5 rows\n",
      "\n",
      "+-------+---------+----------+--------------------+\n",
      "|tweetID|   entity| sentiment|       tweet_content|\n",
      "+-------+---------+----------+--------------------+\n",
      "|   3364| Facebook|Irrelevant|I mentioned on Fa...|\n",
      "|    352|   Amazon|   Neutral|BBC News - Amazon...|\n",
      "|   8312|Microsoft|  Negative|@Microsoft Why do...|\n",
      "|   4371|    CS-GO|  Negative|CSGO matchmaking ...|\n",
      "|   4433|   Google|   Neutral|Now the President...|\n",
      "+-------+---------+----------+--------------------+\n",
      "only showing top 5 rows\n",
      "\n"
     ]
    }
   ],
   "source": [
    "training_data.show(5)\n",
    "validation_data.show(5)"
   ]
  },
  {
   "cell_type": "code",
   "execution_count": 98,
   "id": "0537dfce-2066-40ad-ae11-bf7c574b8c6d",
   "metadata": {},
   "outputs": [
    {
     "name": "stdout",
     "output_type": "stream",
     "text": [
      "+-------+-----------+---------+--------------------+\n",
      "|tweetID|     entity|sentiment|       tweet_content|\n",
      "+-------+-----------+---------+--------------------+\n",
      "|   2401|Borderlands| Positive|im getting on bor...|\n",
      "|   2401|Borderlands| Positive|I am coming to th...|\n",
      "|   2401|Borderlands| Positive|im getting on bor...|\n",
      "|   2401|Borderlands| Positive|im coming on bord...|\n",
      "|   2401|Borderlands| Positive|im getting on bor...|\n",
      "+-------+-----------+---------+--------------------+\n",
      "only showing top 5 rows\n",
      "\n",
      "+-------+---------+----------+--------------------+\n",
      "|tweetID|   entity| sentiment|       tweet_content|\n",
      "+-------+---------+----------+--------------------+\n",
      "|   3364| Facebook|Irrelevant|I mentioned on Fa...|\n",
      "|    352|   Amazon|   Neutral|BBC News - Amazon...|\n",
      "|   8312|Microsoft|  Negative|@Microsoft Why do...|\n",
      "|   4371|    CS-GO|  Negative|CSGO matchmaking ...|\n",
      "|   4433|   Google|   Neutral|Now the President...|\n",
      "+-------+---------+----------+--------------------+\n",
      "only showing top 5 rows\n",
      "\n"
     ]
    }
   ],
   "source": [
    "from pyspark.sql import SparkSession\n",
    "spark = SparkSession.builder.appName(\"SentimentAnalysis\").getOrCreate()\n",
    "column_names = ['tweetID', 'entity', 'sentiment', 'tweet_content']\n",
    "training_data = spark.read.csv('C:\\\\Users\\\\raaya\\\\OneDrive\\\\Desktop\\\\Big Data\\\\twitter_training.csv', header=False, inferSchema=True).toDF(*column_names)\n",
    "validation_data = spark.read.csv('C:\\\\Users\\\\raaya\\\\OneDrive\\\\Desktop\\\\Big Data\\\\twitter_validation.csv', header=False, inferSchema=True).toDF(*column_names)\n",
    "training_data.show(5)\n",
    "validation_data.show(5)"
   ]
  },
  {
   "cell_type": "code",
   "execution_count": 13,
   "id": "ec89021d-1efa-4363-92f2-351891748e1b",
   "metadata": {},
   "outputs": [],
   "source": [
    "training_data = training_data.fillna({\"tweet_content\": \"\"})\n",
    "validation_data = validation_data.fillna({\"tweet_content\": \"\"})\n"
   ]
  },
  {
   "cell_type": "code",
   "execution_count": 14,
   "id": "716775e0-676b-483a-b538-89237cc19793",
   "metadata": {},
   "outputs": [
    {
     "name": "stdout",
     "output_type": "stream",
     "text": [
      "['tweetID', 'entity', 'sentiment', 'tweet_content']\n"
     ]
    }
   ],
   "source": [
    "print(training_data.columns)  # Verify column names\n"
   ]
  },
  {
   "cell_type": "code",
   "execution_count": 16,
   "id": "d8d0b00b-230f-4c94-a494-d45788a180aa",
   "metadata": {},
   "outputs": [
    {
     "name": "stdout",
     "output_type": "stream",
     "text": [
      "+-------+-----------+---------+--------------------+--------------------+\n",
      "|tweetID|     entity|sentiment|       tweet_content|               words|\n",
      "+-------+-----------+---------+--------------------+--------------------+\n",
      "|   2401|Borderlands| Positive|im getting on bor...|[im, getting, on,...|\n",
      "|   2401|Borderlands| Positive|I am coming to th...|[i, am, coming, t...|\n",
      "|   2401|Borderlands| Positive|im getting on bor...|[im, getting, on,...|\n",
      "|   2401|Borderlands| Positive|im coming on bord...|[im, coming, on, ...|\n",
      "|   2401|Borderlands| Positive|im getting on bor...|[im, getting, on,...|\n",
      "+-------+-----------+---------+--------------------+--------------------+\n",
      "only showing top 5 rows\n",
      "\n"
     ]
    }
   ],
   "source": [
    "from pyspark.ml.feature import Tokenizer\n",
    "tokenizer = Tokenizer(inputCol=\"tweet_content\", outputCol=\"words\")\n",
    "try:\n",
    "    training_data = tokenizer.transform(training_data)\n",
    "    training_data.show(5)\n",
    "except Exception as e:\n",
    "    print(f\"Error during tokenization: {e}\")\n"
   ]
  },
  {
   "cell_type": "code",
   "execution_count": 17,
   "id": "cda57c03-1e4b-4b37-ae59-a99ea78b97c1",
   "metadata": {},
   "outputs": [
    {
     "name": "stdout",
     "output_type": "stream",
     "text": [
      "+--------------------+\n",
      "|               words|\n",
      "+--------------------+\n",
      "|[im, getting, on,...|\n",
      "|[i, am, coming, t...|\n",
      "|[im, getting, on,...|\n",
      "|[im, coming, on, ...|\n",
      "|[im, getting, on,...|\n",
      "+--------------------+\n",
      "only showing top 5 rows\n",
      "\n",
      "+--------------------+\n",
      "|               words|\n",
      "+--------------------+\n",
      "|[i, mentioned, on...|\n",
      "|[bbc, news, -, am...|\n",
      "|[@microsoft, why,...|\n",
      "|[csgo, matchmakin...|\n",
      "|[now, the, presid...|\n",
      "+--------------------+\n",
      "only showing top 5 rows\n",
      "\n"
     ]
    }
   ],
   "source": [
    "from pyspark.ml.feature import Tokenizer, StopWordsRemover, CountVectorizer\n",
    "from pyspark.sql.functions import col, regexp_replace\n",
    "\n",
    "training_data = training_data.drop(\"words\", \"filtered_words\", \"features\")\n",
    "validation_data = validation_data.drop(\"words\", \"filtered_words\", \"features\")\n",
    "training_data = training_data.fillna({\"tweet_content\": \"\"})\n",
    "validation_data = validation_data.fillna({\"tweet_content\": \"\"})\n",
    "\n",
    "training_data = training_data.withColumn(\"tweet_content\", regexp_replace(col(\"tweet_content\"), \"[^\\\\x00-\\\\x7F]\", \"\"))\n",
    "validation_data = validation_data.withColumn(\"tweet_content\", regexp_replace(col(\"tweet_content\"), \"[^\\\\x00-\\\\x7F]\", \"\"))\n",
    "\n",
    "tokenizer = Tokenizer(inputCol=\"tweet_content\", outputCol=\"words\")\n",
    "training_data = tokenizer.transform(training_data)\n",
    "validation_data = tokenizer.transform(validation_data)\n",
    "\n",
    "training_data.select(\"words\").show(5)\n",
    "validation_data.select(\"words\").show(5)\n"
   ]
  },
  {
   "cell_type": "code",
   "execution_count": 18,
   "id": "bc4b66ea-6cac-41a5-925d-119585a7cfa2",
   "metadata": {},
   "outputs": [],
   "source": [
    "remover = StopWordsRemover(inputCol=\"words\", outputCol=\"filtered_words\")\n",
    "training_data = remover.transform(training_data)\n",
    "validation_data = remover.transform(validation_data)\n",
    "\n",
    "cv = CountVectorizer(inputCol=\"filtered_words\", outputCol=\"features\")\n",
    "cv_model = cv.fit(training_data)\n",
    "training_data = cv_model.transform(training_data)\n",
    "validation_data = cv_model.transform(validation_data)"
   ]
  },
  {
   "cell_type": "code",
   "execution_count": 19,
   "id": "721c75e9-0ef6-494c-a8e6-98213439d020",
   "metadata": {},
   "outputs": [],
   "source": [
    "from pyspark.ml.classification import LogisticRegression\n",
    "from pyspark.ml.feature import StringIndexer\n",
    "\n",
    "indexer = StringIndexer(inputCol=\"sentiment\", outputCol=\"label\")\n",
    "indexer_model = indexer.fit(training_data)\n",
    "training_data = indexer_model.transform(training_data)\n",
    "validation_data = indexer_model.transform(validation_data)\n",
    "\n",
    "lr = LogisticRegression(featuresCol=\"features\", labelCol=\"label\")\n",
    "lr_model = lr.fit(training_data)\n"
   ]
  },
  {
   "cell_type": "code",
   "execution_count": 20,
   "id": "a3363f9e-2e30-4a5c-9cd3-5ca4ecbb1d8f",
   "metadata": {},
   "outputs": [],
   "source": [
    "training_data = training_data.fillna({\"sentiment\": \"UNKNOWN\"})\n",
    "validation_data = validation_data.fillna({\"sentiment\": \"UNKNOWN\"})\n"
   ]
  },
  {
   "cell_type": "code",
   "execution_count": 21,
   "id": "318ddf9a-0944-4cdb-9f8f-77ebf27c960e",
   "metadata": {},
   "outputs": [
    {
     "name": "stdout",
     "output_type": "stream",
     "text": [
      "root\n",
      " |-- sentiment: string (nullable = false)\n",
      "\n",
      "root\n",
      " |-- sentiment: string (nullable = false)\n",
      "\n"
     ]
    }
   ],
   "source": [
    "training_data.select(\"sentiment\").printSchema()\n",
    "validation_data.select(\"sentiment\").printSchema()\n"
   ]
  },
  {
   "cell_type": "code",
   "execution_count": 22,
   "id": "fdbd7549-2ccd-4383-8de8-8fc3eeaa6853",
   "metadata": {},
   "outputs": [
    {
     "name": "stdout",
     "output_type": "stream",
     "text": [
      "+-------+------+---------+-------------+-----+--------------+--------+-----+\n",
      "|tweetID|entity|sentiment|tweet_content|words|filtered_words|features|label|\n",
      "+-------+------+---------+-------------+-----+--------------+--------+-----+\n",
      "+-------+------+---------+-------------+-----+--------------+--------+-----+\n",
      "\n",
      "+-------+------+---------+-------------+-----+--------------+--------+-----+\n",
      "|tweetID|entity|sentiment|tweet_content|words|filtered_words|features|label|\n",
      "+-------+------+---------+-------------+-----+--------------+--------+-----+\n",
      "+-------+------+---------+-------------+-----+--------------+--------+-----+\n",
      "\n"
     ]
    }
   ],
   "source": [
    "training_data.filter(col(\"sentiment\").isNull()).show(5)\n",
    "validation_data.filter(col(\"sentiment\").isNull()).show(5)\n"
   ]
  },
  {
   "cell_type": "code",
   "execution_count": 23,
   "id": "72a4ad5b-7693-49c4-b29a-869c45e25463",
   "metadata": {},
   "outputs": [
    {
     "name": "stdout",
     "output_type": "stream",
     "text": [
      "+----------+\n",
      "| sentiment|\n",
      "+----------+\n",
      "|Irrelevant|\n",
      "|  Positive|\n",
      "|   Neutral|\n",
      "|  Negative|\n",
      "+----------+\n",
      "\n",
      "+--------------------+\n",
      "|           sentiment|\n",
      "+--------------------+\n",
      "| a few more weeks...|\n",
      "| if you are bored...|\n",
      "| CS:GO or Valoran...|\n",
      "| so again #RTXOn ...|\n",
      "| sexy and full of...|\n",
      "| ...  and free at...|\n",
      "| along with the a...|\n",
      "| Do help a stream...|\n",
      "| FIFA21 & PUBG Mo...|\n",
      "|             UNKNOWN|\n",
      "|          Irrelevant|\n",
      "| it's time to quit.\"|\n",
      "|             Neutral|\n",
      "|            Positive|\n",
      "| UNISTALL THE GAME\"\"|\n",
      "|            Negative|\n",
      "| my PS3 (and Game...|\n",
      "| Call of Duty: In...|\n",
      "|  @nvidia slides 4%.|\n",
      "|  from 19:00 BST! 👍|\n",
      "+--------------------+\n",
      "\n"
     ]
    }
   ],
   "source": [
    "training_data.select(\"sentiment\").distinct().show()\n",
    "validation_data.select(\"sentiment\").distinct().show()\n"
   ]
  },
  {
   "cell_type": "code",
   "execution_count": 24,
   "id": "90ed1b12-2c3a-4a0a-a63f-828a7f5366e4",
   "metadata": {},
   "outputs": [],
   "source": [
    "from pyspark.sql.functions import when, col\n",
    "\n",
    "training_data = training_data.withColumn(\n",
    "    \"sentiment\",\n",
    "    when(col(\"sentiment\").isin([\"Positive\", \"Negative\", \"Neutral\"]), col(\"sentiment\"))\n",
    "    .otherwise(\"UNKNOWN\")\n",
    ")\n",
    "validation_data = validation_data.withColumn(\n",
    "    \"sentiment\",\n",
    "    when(col(\"sentiment\").isin([\"Positive\", \"Negative\", \"Neutral\"]), col(\"sentiment\"))\n",
    "    .otherwise(\"UNKNOWN\")\n",
    ")\n"
   ]
  },
  {
   "cell_type": "code",
   "execution_count": 25,
   "id": "b3867343-d1f3-40c0-a1bc-b85693d1d3dd",
   "metadata": {},
   "outputs": [],
   "source": [
    "from pyspark.ml.feature import StringIndexer\n",
    "\n",
    "indexer = StringIndexer(inputCol=\"sentiment\", outputCol=\"sentiment_index\")\n",
    "indexer_model = indexer.fit(training_data)\n",
    "training_data = indexer_model.transform(training_data)\n",
    "validation_data = indexer_model.transform(validation_data)\n"
   ]
  },
  {
   "cell_type": "code",
   "execution_count": 26,
   "id": "5bbe6546-0124-4e4e-96e2-513318d2ea68",
   "metadata": {},
   "outputs": [
    {
     "name": "stdout",
     "output_type": "stream",
     "text": [
      "root\n",
      " |-- sentiment: string (nullable = false)\n",
      "\n",
      "root\n",
      " |-- sentiment: string (nullable = false)\n",
      "\n",
      "+---------+\n",
      "|sentiment|\n",
      "+---------+\n",
      "|  UNKNOWN|\n",
      "| Positive|\n",
      "|  Neutral|\n",
      "| Negative|\n",
      "+---------+\n",
      "\n",
      "+---------+\n",
      "|sentiment|\n",
      "+---------+\n",
      "|  UNKNOWN|\n",
      "|  Neutral|\n",
      "| Positive|\n",
      "| Negative|\n",
      "+---------+\n",
      "\n"
     ]
    },
    {
     "data": {
      "text/plain": [
       "0"
      ]
     },
     "execution_count": 26,
     "metadata": {},
     "output_type": "execute_result"
    }
   ],
   "source": [
    "training_data.select(\"sentiment\").printSchema()\n",
    "validation_data.select(\"sentiment\").printSchema()\n",
    "\n",
    "training_data = training_data.fillna({\"sentiment\": \"UNKNOWN\"})\n",
    "validation_data = validation_data.fillna({\"sentiment\": \"UNKNOWN\"})\n",
    "\n",
    "training_data.select(\"sentiment\").distinct().show()\n",
    "validation_data.select(\"sentiment\").distinct().show()\n",
    "\n",
    "training_data.filter(col(\"sentiment\").isNull()).count()\n",
    "validation_data.filter(col(\"sentiment\").isNull()).count()\n"
   ]
  },
  {
   "cell_type": "code",
   "execution_count": 27,
   "id": "14c14748-7862-4edd-b72e-bf656a1b838f",
   "metadata": {},
   "outputs": [
    {
     "name": "stdout",
     "output_type": "stream",
     "text": [
      "+---------+\n",
      "|sentiment|\n",
      "+---------+\n",
      "+---------+\n",
      "\n",
      "+-------+-----------+---------+--------------------+--------------------+--------------------+--------------------+-----+---------------+\n",
      "|tweetID|     entity|sentiment|       tweet_content|               words|      filtered_words|            features|label|sentiment_index|\n",
      "+-------+-----------+---------+--------------------+--------------------+--------------------+--------------------+-----+---------------+\n",
      "|   2418|Borderlands|  UNKNOWN|Appreciate the (s...|[appreciate, the,...|[appreciate, (son...|(70007,[0,1,64,11...|  3.0|            3.0|\n",
      "|   2418|Borderlands|  UNKNOWN|Appreciate the (s...|[appreciate, the,...|[appreciate, (sou...|(70007,[0,118,644...|  3.0|            3.0|\n",
      "|   2418|Borderlands|  UNKNOWN|Evaluate the (sou...|[evaluate, the, (...|[evaluate, (sound...|(70007,[0,104,118...|  3.0|            3.0|\n",
      "|   2418|Borderlands|  UNKNOWN|Appreciate the (s...|[appreciate, the,...|[appreciate, (son...|(70007,[0,64,118,...|  3.0|            3.0|\n",
      "|   2418|Borderlands|  UNKNOWN|Appreciate by the...|[appreciate, by, ...|[appreciate, (, s...|(70007,[0,6,64,68...|  3.0|            3.0|\n",
      "+-------+-----------+---------+--------------------+--------------------+--------------------+--------------------+-----+---------------+\n",
      "only showing top 5 rows\n",
      "\n"
     ]
    }
   ],
   "source": [
    "training_data.select(\"sentiment\").filter(~col(\"sentiment\").rlike(\"^[A-Za-z ]+$\")).show()\n",
    "training_data = training_data.withColumn(\"sentiment\", col(\"sentiment\").cast(\"string\"))\n",
    "training_data.filter(col(\"sentiment\") == \"UNKNOWN\").show(5)\n",
    "\n",
    "training_data = training_data.withColumn(\n",
    "    \"sentiment\",\n",
    "    when(col(\"sentiment\").isin([\"Positive\", \"Negative\", \"Neutral\"]), col(\"sentiment\"))\n",
    "    .otherwise(\"UNKNOWN\")\n",
    ")\n",
    "\n",
    "training_data = training_data.filter(col(\"sentiment\") != \"UNKNOWN\")\n",
    "validation_data = training_data.filter(col(\"sentiment\") != \"UNKNOWN\")"
   ]
  },
  {
   "cell_type": "code",
   "execution_count": 28,
   "id": "6b40bcaf-f7c1-408d-90de-30446c80dbed",
   "metadata": {},
   "outputs": [
    {
     "name": "stdout",
     "output_type": "stream",
     "text": [
      "+-------+------+---------+-------------+-----+--------------+--------+-----+---------------+\n",
      "|tweetID|entity|sentiment|tweet_content|words|filtered_words|features|label|sentiment_index|\n",
      "+-------+------+---------+-------------+-----+--------------+--------+-----+---------------+\n",
      "+-------+------+---------+-------------+-----+--------------+--------+-----+---------------+\n",
      "\n",
      "+-------+------+---------+-------------+-----+--------------+--------+-----+---------------+\n",
      "|tweetID|entity|sentiment|tweet_content|words|filtered_words|features|label|sentiment_index|\n",
      "+-------+------+---------+-------------+-----+--------------+--------+-----+---------------+\n",
      "+-------+------+---------+-------------+-----+--------------+--------+-----+---------------+\n",
      "\n"
     ]
    }
   ],
   "source": [
    "training_data = training_data.filter(col(\"sentiment\") != \"UNKNOWN\")\n",
    "training_data.filter(col(\"sentiment\") == \"UNKNOWN\").show(5)\n",
    "\n",
    "validation_data = validation_data.filter(col(\"sentiment\") != \"UNKNOWN\")\n",
    "validation_data.filter(col(\"sentiment\") == \"UNKNOWN\").show(5)\n",
    "\n"
   ]
  },
  {
   "cell_type": "code",
   "execution_count": 29,
   "id": "9a1d594b-816c-4022-b2dc-b8583e59f76c",
   "metadata": {},
   "outputs": [
    {
     "name": "stdout",
     "output_type": "stream",
     "text": [
      "+-------+-----------+---------+--------------------+--------------------+--------------------+--------------------+-----+---------------+\n",
      "|tweetID|     entity|sentiment|       tweet_content|               words|      filtered_words|            features|label|sentiment_index|\n",
      "+-------+-----------+---------+--------------------+--------------------+--------------------+--------------------+-----+---------------+\n",
      "|   2401|Borderlands| Positive|im getting on bor...|[im, getting, on,...|[im, getting, bor...|(70007,[36,64,65,...|  1.0|            1.0|\n",
      "|   2401|Borderlands| Positive|I am coming to th...|[i, am, coming, t...|[coming, borders,...|(70007,[286,324,1...|  1.0|            1.0|\n",
      "|   2401|Borderlands| Positive|im getting on bor...|[im, getting, on,...|[im, getting, bor...|(70007,[36,64,65,...|  1.0|            1.0|\n",
      "|   2401|Borderlands| Positive|im coming on bord...|[im, coming, on, ...|[im, coming, bord...|(70007,[36,64,286...|  1.0|            1.0|\n",
      "|   2401|Borderlands| Positive|im getting on bor...|[im, getting, on,...|[im, getting, bor...|(70007,[11,36,64,...|  1.0|            1.0|\n",
      "+-------+-----------+---------+--------------------+--------------------+--------------------+--------------------+-----+---------------+\n",
      "only showing top 5 rows\n",
      "\n",
      "+-------+-----------+---------+--------------------+--------------------+--------------------+--------------------+-----+---------------+\n",
      "|tweetID|     entity|sentiment|       tweet_content|               words|      filtered_words|            features|label|sentiment_index|\n",
      "+-------+-----------+---------+--------------------+--------------------+--------------------+--------------------+-----+---------------+\n",
      "|   2401|Borderlands| Positive|im getting on bor...|[im, getting, on,...|[im, getting, bor...|(70007,[36,64,65,...|  1.0|            1.0|\n",
      "|   2401|Borderlands| Positive|I am coming to th...|[i, am, coming, t...|[coming, borders,...|(70007,[286,324,1...|  1.0|            1.0|\n",
      "|   2401|Borderlands| Positive|im getting on bor...|[im, getting, on,...|[im, getting, bor...|(70007,[36,64,65,...|  1.0|            1.0|\n",
      "|   2401|Borderlands| Positive|im coming on bord...|[im, coming, on, ...|[im, coming, bord...|(70007,[36,64,286...|  1.0|            1.0|\n",
      "|   2401|Borderlands| Positive|im getting on bor...|[im, getting, on,...|[im, getting, bor...|(70007,[11,36,64,...|  1.0|            1.0|\n",
      "+-------+-----------+---------+--------------------+--------------------+--------------------+--------------------+-----+---------------+\n",
      "only showing top 5 rows\n",
      "\n"
     ]
    }
   ],
   "source": [
    "from pyspark.ml.feature import StringIndexer\n",
    "\n",
    "if 'sentiment_index' in training_data.columns:\n",
    "    training_data = training_data.drop('sentiment_index')\n",
    "\n",
    "if 'sentiment_index' in validation_data.columns:\n",
    "    validation_data = validation_data.drop('sentiment_index')\n",
    "\n",
    "indexer = StringIndexer(inputCol=\"sentiment\", outputCol=\"sentiment_index\")\n",
    "indexer_model = indexer.fit(training_data)\n",
    "\n",
    "training_data = indexer_model.transform(training_data)\n",
    "validation_data = indexer_model.transform(validation_data)\n",
    "\n",
    "training_data.show(5)\n",
    "validation_data.show(5)\n"
   ]
  },
  {
   "cell_type": "code",
   "execution_count": 30,
   "id": "104a07a2-e31f-4990-a2a3-1128b58fbbc3",
   "metadata": {},
   "outputs": [
    {
     "name": "stdout",
     "output_type": "stream",
     "text": [
      "+-------+-----------+---------+--------------------+--------------------+--------------------+--------------------+-----+---------------+--------------------+--------------------+----------+\n",
      "|tweetID|     entity|sentiment|       tweet_content|               words|      filtered_words|            features|label|sentiment_index|       rawPrediction|         probability|prediction|\n",
      "+-------+-----------+---------+--------------------+--------------------+--------------------+--------------------+-----+---------------+--------------------+--------------------+----------+\n",
      "|   2401|Borderlands| Positive|im getting on bor...|[im, getting, on,...|[im, getting, bor...|(70007,[36,64,65,...|  1.0|            1.0|[-4.9708207432527...|[6.30931199992014...|       1.0|\n",
      "|   2401|Borderlands| Positive|I am coming to th...|[i, am, coming, t...|[coming, borders,...|(70007,[286,324,1...|  1.0|            1.0|[-8.3787163658215...|[2.26871380757771...|       1.0|\n",
      "|   2401|Borderlands| Positive|im getting on bor...|[im, getting, on,...|[im, getting, bor...|(70007,[36,64,65,...|  1.0|            1.0|[-2.6945164005725...|[2.01882730926195...|       1.0|\n",
      "|   2401|Borderlands| Positive|im coming on bord...|[im, coming, on, ...|[im, coming, bord...|(70007,[36,64,286...|  1.0|            1.0|[0.18474778853412...|[1.98898689684524...|       1.0|\n",
      "|   2401|Borderlands| Positive|im getting on bor...|[im, getting, on,...|[im, getting, bor...|(70007,[11,36,64,...|  1.0|            1.0|[0.41169438910638...|[7.40281636742450...|       1.0|\n",
      "+-------+-----------+---------+--------------------+--------------------+--------------------+--------------------+-----+---------------+--------------------+--------------------+----------+\n",
      "only showing top 5 rows\n",
      "\n",
      "Validation Accuracy: 0.97\n"
     ]
    }
   ],
   "source": [
    "predictions = lr_model.transform(validation_data)\n",
    "predictions.show(5)\n",
    "\n",
    "from pyspark.ml.evaluation import MulticlassClassificationEvaluator\n",
    "\n",
    "evaluator = MulticlassClassificationEvaluator(\n",
    "    labelCol=\"label\", predictionCol=\"prediction\", metricName=\"accuracy\"\n",
    ")\n",
    "try:\n",
    "    accuracy = evaluator.evaluate(predictions)\n",
    "    print(f\"Validation Accuracy: {accuracy:.2f}\")\n",
    "except Exception as e:\n",
    "    print(f\"An error occurred: {e}\")\n"
   ]
  },
  {
   "cell_type": "code",
   "execution_count": 31,
   "id": "cc9f2272-826e-440d-bd41-b70f5803895a",
   "metadata": {},
   "outputs": [
    {
     "name": "stdout",
     "output_type": "stream",
     "text": [
      "root\n",
      " |-- tweetID: integer (nullable = true)\n",
      " |-- entity: string (nullable = true)\n",
      " |-- sentiment: string (nullable = false)\n",
      " |-- tweet_content: string (nullable = false)\n",
      " |-- words: array (nullable = true)\n",
      " |    |-- element: string (containsNull = true)\n",
      " |-- filtered_words: array (nullable = true)\n",
      " |    |-- element: string (containsNull = true)\n",
      " |-- features: vector (nullable = true)\n",
      " |-- label: double (nullable = false)\n",
      " |-- sentiment_index: double (nullable = false)\n",
      " |-- rawPrediction: vector (nullable = true)\n",
      " |-- probability: vector (nullable = true)\n",
      " |-- prediction: double (nullable = false)\n",
      "\n",
      "+---------------+----------+\n",
      "|sentiment_index|prediction|\n",
      "+---------------+----------+\n",
      "|            1.0|       1.0|\n",
      "|            1.0|       1.0|\n",
      "|            1.0|       1.0|\n",
      "|            1.0|       1.0|\n",
      "|            1.0|       1.0|\n",
      "|            1.0|       1.0|\n",
      "|            1.0|       1.0|\n",
      "|            1.0|       1.0|\n",
      "|            1.0|       1.0|\n",
      "|            1.0|       1.0|\n",
      "|            1.0|       1.0|\n",
      "|            1.0|       1.0|\n",
      "|            2.0|       2.0|\n",
      "|            2.0|       2.0|\n",
      "|            2.0|       2.0|\n",
      "|            2.0|       2.0|\n",
      "|            2.0|       2.0|\n",
      "|            2.0|       2.0|\n",
      "|            1.0|       1.0|\n",
      "|            1.0|       1.0|\n",
      "|            1.0|       1.0|\n",
      "|            1.0|       1.0|\n",
      "|            1.0|       1.0|\n",
      "|            1.0|       1.0|\n",
      "|            0.0|       0.0|\n",
      "|            0.0|       0.0|\n",
      "|            0.0|       0.0|\n",
      "|            0.0|       0.0|\n",
      "|            0.0|       0.0|\n",
      "|            0.0|       0.0|\n",
      "|            1.0|       1.0|\n",
      "|            1.0|       1.0|\n",
      "|            1.0|       1.0|\n",
      "|            1.0|       1.0|\n",
      "|            1.0|       1.0|\n",
      "|            1.0|       1.0|\n",
      "|            0.0|       0.0|\n",
      "|            0.0|       0.0|\n",
      "|            0.0|       0.0|\n",
      "|            0.0|       0.0|\n",
      "|            0.0|       0.0|\n",
      "|            0.0|       0.0|\n",
      "|            2.0|       2.0|\n",
      "|            2.0|       2.0|\n",
      "|            2.0|       2.0|\n",
      "|            2.0|       2.0|\n",
      "|            2.0|       2.0|\n",
      "|            2.0|       2.0|\n",
      "|            2.0|       2.0|\n",
      "|            2.0|       2.0|\n",
      "+---------------+----------+\n",
      "only showing top 50 rows\n",
      "\n",
      "Validation Accuracy: 0.97\n"
     ]
    },
    {
     "name": "stderr",
     "output_type": "stream",
     "text": [
      "C:\\Users\\raaya\\AppData\\Local\\Temp\\ipykernel_11988\\1372026065.py:32: FutureWarning: \n",
      "\n",
      "Passing `palette` without assigning `hue` is deprecated and will be removed in v0.14.0. Assign the `x` variable to `hue` and set `legend=False` for the same effect.\n",
      "\n",
      "  sns.countplot(data=validation_results, x=\"prediction\", palette=\"viridis\")\n"
     ]
    },
    {
     "data": {
      "image/png": "[encoded data removed]",
      "text/plain": [
       "<Figure size 800x600 with 1 Axes>"
      ]
     },
     "metadata": {},
     "output_type": "display_data"
    },
    {
     "data": {
      "image/png": "[encoded data removed]",
      "text/plain": [
       "<Figure size 800x800 with 1 Axes>"
      ]
     },
     "metadata": {},
     "output_type": "display_data"
    },
    {
     "data": {
      "image/png": "[encoded data removed]",
      "text/plain": [
       "<Figure size 800x600 with 2 Axes>"
      ]
     },
     "metadata": {},
     "output_type": "display_data"
    }
   ],
   "source": [
    "from pyspark.ml.evaluation import MulticlassClassificationEvaluator\n",
    "from pyspark.sql.functions import col\n",
    "import matplotlib.pyplot as plt\n",
    "import seaborn as sns\n",
    "import pandas as pd\n",
    "\n",
    "validation_data_with_predictions = lr_model.transform(validation_data)\n",
    "validation_data_with_predictions.printSchema()\n",
    "\n",
    "validation_data_with_predictions.select(\"sentiment_index\", \"prediction\").show(50)\n",
    "\n",
    "evaluator = MulticlassClassificationEvaluator(labelCol=\"sentiment_index\", predictionCol=\"prediction\", metricName=\"accuracy\")\n",
    "accuracy = evaluator.evaluate(validation_data_with_predictions)\n",
    "print(f\"Validation Accuracy: {accuracy:.2f}\")\n",
    "\n",
    "validation_results = validation_data_with_predictions.select(\"sentiment_index\", \"prediction\").toPandas()\n",
    "# Map numeric labels to original sentiments\n",
    "label_map = {0.0: \"Negative\", 1.0: \"Neutral\", 2.0: \"Positive\"}\n",
    "validation_results[\"prediction\"] = validation_results[\"prediction\"].map(label_map)\n",
    "validation_results[\"sentiment_index\"] = validation_results[\"sentiment_index\"].map(label_map)\n",
    "\n",
    "plt.figure(figsize=(8, 6))\n",
    "sns.countplot(data=validation_results, x=\"prediction\", palette=\"viridis\")\n",
    "plt.title(\"Prediction Distribution\")\n",
    "plt.xlabel(\"Predicted Sentiments\")\n",
    "plt.ylabel(\"Count\")\n",
    "plt.show()\n",
    "\n",
    "plt.figure(figsize=(8, 8))\n",
    "validation_results[\"prediction\"].value_counts().plot.pie(autopct='%1.1f%%', cmap=\"viridis\", legend=True)\n",
    "plt.title(\"Sentiment Prediction Proportions\")\n",
    "plt.ylabel(\"\")\n",
    "plt.show()\n",
    "\n",
    "confusion_matrix = pd.crosstab(validation_results[\"sentiment_index\"], validation_results[\"prediction\"], rownames=[\"True Label\"], colnames=[\"Predicted Label\"])\n",
    "plt.figure(figsize=(8, 6))\n",
    "sns.heatmap(confusion_matrix, annot=True, fmt=\"d\", cmap=\"coolwarm\")\n",
    "plt.title(\"Confusion Matrix\")\n",
    "plt.xlabel(\"Predicted Sentiment\")\n",
    "plt.ylabel(\"True Sentiment\")\n",
    "plt.show()\n"
   ]
  },
  {
   "cell_type": "code",
   "execution_count": null,
   "id": "9faed68b-7d44-49de-b9e2-4af441913564",
   "metadata": {},
   "outputs": [],
   "source": []
  },
  {
   "cell_type": "code",
   "execution_count": null,
   "id": "541fad99-cd06-40d1-89e0-30f3470f7a49",
   "metadata": {},
   "outputs": [],
   "source": []
  }
 ],
 "metadata": {
  "kernelspec": {
   "display_name": "Python 3 (ipykernel)",
   "language": "python",
   "name": "python3"
  },
  "language_info": {
   "codemirror_mode": {
    "name": "ipython",
    "version": 3
   },
   "file_extension": ".py",
   "mimetype": "text/x-python",
   "name": "python",
   "nbconvert_exporter": "python",
   "pygments_lexer": "ipython3",
   "version": "3.12.7"
  }
 },
 "nbformat": 4,
 "nbformat_minor": 5
}
